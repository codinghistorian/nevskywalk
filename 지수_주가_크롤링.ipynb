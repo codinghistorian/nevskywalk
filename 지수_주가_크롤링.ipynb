{
  "nbformat": 4,
  "nbformat_minor": 0,
  "metadata": {
    "colab": {
      "name": "지수_주가_크롤링",
      "provenance": [],
      "authorship_tag": "ABX9TyOBjWy8s2h9i+Q5vqCULKqY",
      "include_colab_link": true
    },
    "kernelspec": {
      "name": "python3",
      "display_name": "Python 3"
    }
  },
  "cells": [
    {
      "cell_type": "markdown",
      "metadata": {
        "id": "view-in-github",
        "colab_type": "text"
      },
      "source": [
        "<a href=\"https://colab.research.google.com/github/spbtour/asgwrwrtwrtgr/blob/master/%EC%A7%80%EC%88%98_%EC%A3%BC%EA%B0%80_%ED%81%AC%EB%A1%A4%EB%A7%81.ipynb\" target=\"_parent\"><img src=\"https://colab.research.google.com/assets/colab-badge.svg\" alt=\"Open In Colab\"/></a>"
      ]
    },
    {
      "cell_type": "code",
      "metadata": {
        "id": "qwFp3uV_H1Z4",
        "colab_type": "code",
        "colab": {}
      },
      "source": [
        "import requests\n",
        "from bs4 import BeautifulSoup\n",
        "import lxml"
      ],
      "execution_count": null,
      "outputs": []
    },
    {
      "cell_type": "code",
      "metadata": {
        "id": "dJGdFvaGQiy0",
        "colab_type": "code",
        "colab": {
          "base_uri": "https://localhost:8080/",
          "height": 35
        },
        "outputId": "59000083-76e8-4f09-b765-9e434654b79c"
      },
      "source": [
        "url = \"https://finance.naver.com/item/sise_day.nhn?code=215600\"\n",
        "html = requests.get(url).text\n",
        "soup = BeautifulSoup(html,\"html5lib\")\n",
        "tags = soup.select(\"#tah p11\")\n",
        "print(tags[:])"
      ],
      "execution_count": 27,
      "outputs": [
        {
          "output_type": "stream",
          "text": [
            "[]\n"
          ],
          "name": "stdout"
        }
      ]
    },
    {
      "cell_type": "markdown",
      "metadata": {
        "id": "W8MXBeTeekXN",
        "colab_type": "text"
      },
      "source": [
        "I don't know why shit above is not working. maybe I should watch https://www.youtube.com/watch?v=yQ20jZwDjTE&list=WL&index=14&t=10261s and try to figure it out sometime later"
      ]
    },
    {
      "cell_type": "markdown",
      "metadata": {
        "id": "EWyM4PBhLxcT",
        "colab_type": "text"
      },
      "source": [
        "https://pandas-datareader.readthedocs.io/en/latest/remote_data.html"
      ]
    },
    {
      "cell_type": "markdown",
      "metadata": {
        "id": "VSnL2YORLrZd",
        "colab_type": "text"
      },
      "source": [
        "코스피 지수를 크롤링 합니다.\n",
        "\n",
        "출처는 https://wikidocs.net/21879"
      ]
    },
    {
      "cell_type": "code",
      "metadata": {
        "id": "5imBklDFITdf",
        "colab_type": "code",
        "colab": {}
      },
      "source": [
        "url = \"https://finance.naver.com/sise/sise_index.nhn?code=KOSPI\"\n",
        "html = requests.get(url).text\n",
        "soup = BeautifulSoup(html,\"html5lib\")\n"
      ],
      "execution_count": null,
      "outputs": []
    },
    {
      "cell_type": "code",
      "metadata": {
        "id": "0sBxWjAULCSI",
        "colab_type": "code",
        "colab": {
          "base_uri": "https://localhost:8080/",
          "height": 35
        },
        "outputId": "2a5a3821-6897-4e3c-9299-2a0b0136f02d"
      },
      "source": [
        "tags = soup.select(\"#now_value\")\n",
        "tag = tags[0]\n",
        "tag.text"
      ],
      "execution_count": null,
      "outputs": [
        {
          "output_type": "execute_result",
          "data": {
            "application/vnd.google.colaboratory.intrinsic+json": {
              "type": "string"
            },
            "text/plain": [
              "'2,447.76'"
            ]
          },
          "metadata": {
            "tags": []
          },
          "execution_count": 20
        }
      ]
    },
    {
      "cell_type": "code",
      "metadata": {
        "id": "OMZxwxk5LPam",
        "colab_type": "code",
        "colab": {}
      },
      "source": [
        "url = \"https://finance.naver.com/sise/sise_index.nhn?code=KOSPI\"\n",
        "html = requests.get(url).text\n",
        "soup = BeautifulSoup(html,\"html5lib\")\n",
        "tags = soup.select(\"#change_value_and_rate\")\n",
        "tag = tags[0]\n",
        "tag.text"
      ],
      "execution_count": null,
      "outputs": []
    },
    {
      "cell_type": "code",
      "metadata": {
        "id": "TER4d57NMBDr",
        "colab_type": "code",
        "colab": {
          "base_uri": "https://localhost:8080/",
          "height": 35
        },
        "outputId": "c62e917c-5057-455f-bda2-cf34a3f6b725"
      },
      "source": [
        "url = \"https://finance.naver.com/sise/sise_index.nhn?code=KOSPI\"\n",
        "html = requests.get(url).text\n",
        "soup = BeautifulSoup(html,\"html5lib\")\n",
        "\n",
        "tags = soup.select(\"#now_value\")\n",
        "kospi = tags[0]\n",
        "\n",
        "\n",
        "tags2 = soup.select(\"#change_value_and_rate\")\n",
        "fluc = tags2[0]\n",
        "print(kospi.text + \"  \" + fluc.text)"
      ],
      "execution_count": null,
      "outputs": [
        {
          "output_type": "stream",
          "text": [
            "2,445.55  1.97 +0.08%상승\n"
          ],
          "name": "stdout"
        }
      ]
    },
    {
      "cell_type": "markdown",
      "metadata": {
        "id": "Jlh2UCyDPN-0",
        "colab_type": "text"
      },
      "source": [
        "이번에는 일별, 시간별 데이터 가져오기\n"
      ]
    },
    {
      "cell_type": "markdown",
      "metadata": {
        "id": "fTy7V-sPPQxE",
        "colab_type": "text"
      },
      "source": [
        "url = https://finance.naver.com/item/sise_day.nhn?code=215600\n",
        "html = requests.get(url).text\n",
        "soup = BeautifulSoup(html,\"html5lib\")\n",
        "\n",
        "tags = soup.select(\"#tah p10 gray03\")\n",
        "kospi = tags[0]"
      ]
    },
    {
      "cell_type": "markdown",
      "metadata": {
        "id": "uJsdZIwpOXlV",
        "colab_type": "text"
      },
      "source": [
        "키움 open api 사용해보기 - 문제점 1) 3개월마다 모의투자 신청해야함 문제점 2) api사용할때마다 로그인 해야하고 자동로그인 해야하면 내 키움 id랑 비번을 코드에 포함하게 되는데 혹시 해킹 당하면 개 좆망 문제점 3) KOA 프로그램으로 테스팅 해보는데 안됨."
      ]
    },
    {
      "cell_type": "markdown",
      "metadata": {
        "id": "e3n9EP3wsb5y",
        "colab_type": "text"
      },
      "source": [
        "KRX API에서 쿼리하고 파싱해서 재구성하기 - 이게 네이버에서 긁는것보다 데이터도 덜 소모하고 빠를듯\n",
        "\n",
        "https://m.blog.naver.com/platinasnow/220730608310\n",
        "https://www.fun-coding.org/crawl_basic2.html\n",
        "https://www.fun-coding.org/data_collection_advanced5.html\n"
      ]
    },
    {
      "cell_type": "code",
      "metadata": {
        "id": "afelQISvNg2_",
        "colab_type": "code",
        "colab": {
          "base_uri": "https://localhost:8080/",
          "height": 703
        },
        "outputId": "158663d6-7f2d-4bcc-c4b2-ce1ae639ea82"
      },
      "source": [
        "\n",
        "info_url = 'http://asp1.krx.co.kr/servlet/krx.asp.XMLSise?code=035420'\n",
        "response = requests.get(info_url)\n",
        "soup = BeautifulSoup(response.content, 'lxml')\n",
        "\n",
        "print(soup)"
      ],
      "execution_count": null,
      "outputs": [
        {
          "output_type": "stream",
          "text": [
            "<?xml version=\"1.0\" encoding=\"utf-8\" ?><html><body><stockprice querytime=\"2020-09-16 23:11:55\">\n",
            "<tbl_dailystock>\n",
            "<dailystock day_date=\"20/09/16\" day_dungrak=\"5\" day_endprice=\"307,000\" day_getamount=\"214,032,765,500\" day_getdebi=\"5,000\" day_high=\"312,000\" day_low=\"306,000\" day_start=\"311,500\" day_volume=\"696,219\"></dailystock>\n",
            "<dailystock day_date=\"20/09/15\" day_dungrak=\"2\" day_endprice=\"312,000\" day_getamount=\"247,446,069,000\" day_getdebi=\"9,000\" day_high=\"314,000\" day_low=\"303,000\" day_start=\"304,000\" day_volume=\"797,985\"></dailystock>\n",
            "<dailystock day_date=\"20/09/14\" day_dungrak=\"5\" day_endprice=\"303,000\" day_getamount=\"183,968,356,000\" day_getdebi=\"3,000\" day_high=\"308,000\" day_low=\"300,000\" day_start=\"307,500\" day_volume=\"608,816\"></dailystock>\n",
            "<dailystock day_date=\"20/09/11\" day_dungrak=\"5\" day_endprice=\"306,000\" day_getamount=\"156,744,682,500\" day_getdebi=\"1,500\" day_high=\"307,000\" day_low=\"301,000\" day_start=\"302,500\" day_volume=\"517,023\"></dailystock>\n",
            "<dailystock day_date=\"20/09/10\" day_dungrak=\"2\" day_endprice=\"307,500\" day_getamount=\"256,821,117,500\" day_getdebi=\"3,000\" day_high=\"311,000\" day_low=\"305,000\" day_start=\"309,000\" day_volume=\"834,946\"></dailystock>\n",
            "<dailystock day_date=\"20/09/09\" day_dungrak=\"5\" day_endprice=\"304,500\" day_getamount=\"282,302,689,500\" day_getdebi=\"6,500\" day_high=\"307,000\" day_low=\"300,000\" day_start=\"303,000\" day_volume=\"925,825\"></dailystock>\n",
            "<dailystock day_date=\"20/09/08\" day_dungrak=\"5\" day_endprice=\"311,000\" day_getamount=\"307,561,928,000\" day_getdebi=\"3,500\" day_high=\"318,000\" day_low=\"305,500\" day_start=\"316,000\" day_volume=\"989,171\"></dailystock>\n",
            "<dailystock day_date=\"20/09/07\" day_dungrak=\"5\" day_endprice=\"314,500\" day_getamount=\"414,431,872,000\" day_getdebi=\"14,000\" day_high=\"325,500\" day_low=\"313,500\" day_start=\"325,500\" day_volume=\"1,308,247\"></dailystock>\n",
            "<dailystock day_date=\"20/09/04\" day_dungrak=\"5\" day_endprice=\"328,500\" day_getamount=\"386,839,673,000\" day_getdebi=\"10,500\" day_high=\"335,000\" day_low=\"322,000\" day_start=\"322,500\" day_volume=\"1,174,337\"></dailystock>\n",
            "<dailystock day_date=\"20/09/03\" day_dungrak=\"2\" day_endprice=\"339,000\" day_getamount=\"260,315,239,000\" day_getdebi=\"6,500\" day_high=\"339,500\" day_low=\"329,500\" day_start=\"333,500\" day_volume=\"776,547\"></dailystock>\n",
            "</tbl_dailystock>\n",
            "<tbl_askprice>\n",
            "<askprice member_memdomem=\"미래에셋대우\" member_memdovol=\"91,553\" member_memsomem=\"NH투자증권\" member_mesuovol=\"90,715\"></askprice>\n",
            "<askprice member_memdomem=\"JP모간\" member_memdovol=\"88,151\" member_memsomem=\"삼성증권\" member_mesuovol=\"83,728\"></askprice>\n",
            "<askprice member_memdomem=\"메리츠\" member_memdovol=\"83,725\" member_memsomem=\"키움증권\" member_mesuovol=\"75,243\"></askprice>\n",
            "<askprice member_memdomem=\"삼성증권\" member_memdovol=\"49,252\" member_memsomem=\"메리츠\" member_mesuovol=\"70,001\"></askprice>\n",
            "<askprice member_memdomem=\"신한투자\" member_memdovol=\"36,180\" member_memsomem=\"미래에셋대우\" member_mesuovol=\"64,941\"></askprice>\n",
            "</tbl_askprice>\n",
            "<tbl_stockinfo amount=\"164,263,395\" curjuka=\"307,000\" debi=\"5,000\" downjuka=\"218,500\" dungrak=\"5\" facejuka=\"100\" high52=\"339,000\" highjuka=\"312,000\" jongname=\"NAVER보통주\" low52=\"143,000\" lowjuka=\"306,000\" money=\"214,032,765,500\" per=\"76.64\" prevjuka=\"312,000\" startjuka=\"311,500\" upjuka=\"405,500\" volume=\"696,219\"></tbl_stockinfo>\n",
            "<tbl_hoga medohoka0=\"309,000\" medohoka1=\"308,500\" medohoka2=\"308,000\" medohoka3=\"307,500\" medohoka4=\"307,000\" medojan0=\"3,124\" medojan1=\"7,168\" medojan2=\"10,895\" medojan3=\"12,724\" medojan4=\"2,164\" mesuhoka0=\"306,500\" mesuhoka1=\"306,000\" mesuhoka2=\"305,500\" mesuhoka3=\"305,000\" mesuhoka4=\"304,500\" mesujan0=\"24,330\" mesujan1=\"27,718\" mesujan2=\"14,151\" mesujan3=\"26,333\" mesujan4=\"5,421\"></tbl_hoga>\n",
            "<tbl_timeconclude>\n",
            "<tbl_timeconclude amount=\"258\" buyprice=\"\" debi=\"\" dungrak=\"\" negoprice=\"\" sellprice=\"\" time=\"18:00:30\"></tbl_timeconclude>\n",
            "<tbl_timeconclude amount=\"296\" buyprice=\"\" debi=\"\" dungrak=\"\" negoprice=\"\" sellprice=\"\" time=\"17:50:10\"></tbl_timeconclude>\n",
            "<tbl_timeconclude amount=\"106\" buyprice=\"\" debi=\"\" dungrak=\"\" negoprice=\"\" sellprice=\"\" time=\"17:40:30\"></tbl_timeconclude>\n",
            "<tbl_timeconclude amount=\"235\" buyprice=\"\" debi=\"\" dungrak=\"\" negoprice=\"\" sellprice=\"\" time=\"17:30:40\"></tbl_timeconclude>\n",
            "<tbl_timeconclude amount=\"9\" buyprice=\"\" debi=\"\" dungrak=\"\" negoprice=\"\" sellprice=\"\" time=\"17:20:20\"></tbl_timeconclude>\n",
            "<tbl_timeconclude amount=\"169\" buyprice=\"\" debi=\"\" dungrak=\"\" negoprice=\"\" sellprice=\"\" time=\"17:10:20\"></tbl_timeconclude>\n",
            "<tbl_timeconclude amount=\"395\" buyprice=\"\" debi=\"\" dungrak=\"\" negoprice=\"\" sellprice=\"\" time=\"17:00:30\"></tbl_timeconclude>\n",
            "<tbl_timeconclude amount=\"156\" buyprice=\"0\" debi=\"\" dungrak=\"\" negoprice=\"\" sellprice=\"0\" time=\"16:50:20\"></tbl_timeconclude>\n",
            "<tbl_timeconclude amount=\"30\" buyprice=\"\" debi=\"\" dungrak=\"\" negoprice=\"\" sellprice=\"\" time=\"16:40:20\"></tbl_timeconclude>\n",
            "<tbl_timeconclude amount=\"25\" buyprice=\"\" debi=\"\" dungrak=\"\" negoprice=\"\" sellprice=\"\" time=\"16:30:30\"></tbl_timeconclude>\n",
            "</tbl_timeconclude>\n",
            "<stockinfo jisu50=\"\" jisu50buho=\"\" jisu50debi=\"\" kosdaqjisu=\"896.28\" kosdaqjisubuho=\"5\" kosdaqjisudebi=\"3.18\" kospi200buho=\"5\" kospi200debi=\"1.05\" kospi200jisu=\"322.31\" kospibuho=\"5\" kospidebi=\"7.66\" kospijisu=\"2435.92\" krx100buho=\"5\" krx100debi=\"14.96\" krx100jisu=\"5193.26\" myjanggubun=\"장마감\" mynowtime=\"2020/09/16 23:11:57\" mypublicprice=\"\" starjisu=\"1328.27\" starjisubuho=\"2\" starjisudebi=\"10.63\"></stockinfo>\n",
            "</stockprice>\n",
            "</body></html>\n"
          ],
          "name": "stdout"
        }
      ]
    },
    {
      "cell_type": "markdown",
      "metadata": {
        "id": "v0vCfo3N1oic",
        "colab_type": "text"
      },
      "source": [
        "https://www.crummy.com/software/BeautifulSoup/bs4/doc/#navigating-the-tree"
      ]
    },
    {
      "cell_type": "code",
      "metadata": {
        "id": "owPZijaP_BEY",
        "colab_type": "code",
        "colab": {}
      },
      "source": [
        ""
      ],
      "execution_count": null,
      "outputs": []
    },
    {
      "cell_type": "markdown",
      "metadata": {
        "id": "ZCuspawc1pzy",
        "colab_type": "text"
      },
      "source": [
        "https://www.crummy.com/software/BeautifulSoup/bs4/doc/"
      ]
    },
    {
      "cell_type": "markdown",
      "metadata": {
        "id": "AJvMdEp_-9-q",
        "colab_type": "text"
      },
      "source": [
        "how to parse xml : https://linuxhint.com/parse_xml_python_beautifulsoup/"
      ]
    },
    {
      "cell_type": "code",
      "metadata": {
        "id": "llYADzSIOS9-",
        "colab_type": "code",
        "colab": {
          "base_uri": "https://localhost:8080/",
          "height": 55
        },
        "outputId": "762fd849-35ec-4dfa-cbd1-b70fa6fd2c5d"
      },
      "source": [
        "info_url = 'http://asp1.krx.co.kr/servlet/krx.asp.XMLSise?code=035420'\n",
        "response = requests.get(info_url)\n",
        "soup = BeautifulSoup(response.content, 'lxml')\n",
        "test = soup.find(\"tbl_stockinfo\")\n",
        "#test 는 됨. 이제 test 안에 curjuka 를 parsing 해야함\n",
        "test"
      ],
      "execution_count": null,
      "outputs": [
        {
          "output_type": "execute_result",
          "data": {
            "text/plain": [
              "<tbl_stockinfo amount=\"164,263,395\" curjuka=\"307,000\" debi=\"5,000\" downjuka=\"218,500\" dungrak=\"5\" facejuka=\"100\" high52=\"339,000\" highjuka=\"312,000\" jongname=\"NAVER보통주\" low52=\"143,000\" lowjuka=\"306,000\" money=\"213,522,749,500\" per=\"76.64\" prevjuka=\"312,000\" startjuka=\"311,500\" upjuka=\"405,500\" volume=\"694,555\"></tbl_stockinfo>"
            ]
          },
          "metadata": {
            "tags": []
          },
          "execution_count": 73
        }
      ]
    },
    {
      "cell_type": "code",
      "metadata": {
        "id": "Vc7qY82a_nM6",
        "colab_type": "code",
        "colab": {
          "base_uri": "https://localhost:8080/",
          "height": 35
        },
        "outputId": "b93a84ac-cedb-4eb1-ce34-2cbf85153a98"
      },
      "source": [
        "info_url = 'http://asp1.krx.co.kr/servlet/krx.asp.XMLSise?code=035420'\n",
        "response = requests.get(info_url)\n",
        "soup = BeautifulSoup(response.content, 'lxml')\n",
        "test3 = soup.find(\"stockinfo\")\n",
        "#test1,2 는 됨. 이제 test 안에 코스피 지수/ 코스닥 지수를 parsing 해야함\n",
        "코스닥지수 = test3.get(\"kosdaqjisu\")\n",
        "코스피지수 = test3.get(\"kospijisu\")\n",
        "print(코스닥지수 + \" \" + 코스피지수)"
      ],
      "execution_count": null,
      "outputs": [
        {
          "output_type": "stream",
          "text": [
            "896.28 2435.92\n"
          ],
          "name": "stdout"
        }
      ]
    },
    {
      "cell_type": "markdown",
      "metadata": {
        "id": "W66MGe7A7Rzo",
        "colab_type": "text"
      },
      "source": [
        "Type script 기반 KRX api --0- 현재가 조회 가능\n",
        "https://developer.aliyun.com/mirror/npm/package/krx-stock-api\n"
      ]
    },
    {
      "cell_type": "code",
      "metadata": {
        "id": "ZdzjFvtp7TB4",
        "colab_type": "code",
        "colab": {}
      },
      "source": [
        "info_url = 'http://asp1.krx.co.kr/servlet/krx.asp.XMLSise?code=035420'\n",
        "response = requests.get(info_url)\n",
        "soup = BeautifulSoup(response.content, 'lxml')\n",
        "test3 = soup.find(\"tbl_stockinfo\")\n",
        "#test 는 됨. 이제 test 안에 curjuka 를 parsing 해야함\n",
        "result = test2.get(\"curjuka\")\n",
        "print(result)\n",
        "#test2 도 됨"
      ],
      "execution_count": null,
      "outputs": []
    },
    {
      "cell_type": "code",
      "metadata": {
        "id": "-EXIc8vr_7-r",
        "colab_type": "code",
        "colab": {
          "base_uri": "https://localhost:8080/",
          "height": 703
        },
        "outputId": "59e38b5e-5b72-40ff-b0cb-0b3098905feb"
      },
      "source": [
        "info_url = 'http://asp1.krx.co.kr/servlet/krx.asp.XMLSise?code=035420'\n",
        "response = requests.get(info_url)\n",
        "soup = BeautifulSoup(response.content, 'lxml')\n",
        "print(soup)"
      ],
      "execution_count": null,
      "outputs": [
        {
          "output_type": "stream",
          "text": [
            "<?xml version=\"1.0\" encoding=\"utf-8\" ?><html><body><stockprice querytime=\"2020-09-16 22:21:57\">\n",
            "<tbl_dailystock>\n",
            "<dailystock day_date=\"20/09/16\" day_dungrak=\"5\" day_endprice=\"307,000\" day_getamount=\"214,032,765,500\" day_getdebi=\"5,000\" day_high=\"312,000\" day_low=\"306,000\" day_start=\"311,500\" day_volume=\"696,219\"></dailystock>\n",
            "<dailystock day_date=\"20/09/15\" day_dungrak=\"2\" day_endprice=\"312,000\" day_getamount=\"247,446,069,000\" day_getdebi=\"9,000\" day_high=\"314,000\" day_low=\"303,000\" day_start=\"304,000\" day_volume=\"797,985\"></dailystock>\n",
            "<dailystock day_date=\"20/09/14\" day_dungrak=\"5\" day_endprice=\"303,000\" day_getamount=\"183,968,356,000\" day_getdebi=\"3,000\" day_high=\"308,000\" day_low=\"300,000\" day_start=\"307,500\" day_volume=\"608,816\"></dailystock>\n",
            "<dailystock day_date=\"20/09/11\" day_dungrak=\"5\" day_endprice=\"306,000\" day_getamount=\"156,744,682,500\" day_getdebi=\"1,500\" day_high=\"307,000\" day_low=\"301,000\" day_start=\"302,500\" day_volume=\"517,023\"></dailystock>\n",
            "<dailystock day_date=\"20/09/10\" day_dungrak=\"2\" day_endprice=\"307,500\" day_getamount=\"256,821,117,500\" day_getdebi=\"3,000\" day_high=\"311,000\" day_low=\"305,000\" day_start=\"309,000\" day_volume=\"834,946\"></dailystock>\n",
            "<dailystock day_date=\"20/09/09\" day_dungrak=\"5\" day_endprice=\"304,500\" day_getamount=\"282,302,689,500\" day_getdebi=\"6,500\" day_high=\"307,000\" day_low=\"300,000\" day_start=\"303,000\" day_volume=\"925,825\"></dailystock>\n",
            "<dailystock day_date=\"20/09/08\" day_dungrak=\"5\" day_endprice=\"311,000\" day_getamount=\"307,561,928,000\" day_getdebi=\"3,500\" day_high=\"318,000\" day_low=\"305,500\" day_start=\"316,000\" day_volume=\"989,171\"></dailystock>\n",
            "<dailystock day_date=\"20/09/07\" day_dungrak=\"5\" day_endprice=\"314,500\" day_getamount=\"414,431,872,000\" day_getdebi=\"14,000\" day_high=\"325,500\" day_low=\"313,500\" day_start=\"325,500\" day_volume=\"1,308,247\"></dailystock>\n",
            "<dailystock day_date=\"20/09/04\" day_dungrak=\"5\" day_endprice=\"328,500\" day_getamount=\"386,839,673,000\" day_getdebi=\"10,500\" day_high=\"335,000\" day_low=\"322,000\" day_start=\"322,500\" day_volume=\"1,174,337\"></dailystock>\n",
            "<dailystock day_date=\"20/09/03\" day_dungrak=\"2\" day_endprice=\"339,000\" day_getamount=\"260,315,239,000\" day_getdebi=\"6,500\" day_high=\"339,500\" day_low=\"329,500\" day_start=\"333,500\" day_volume=\"776,547\"></dailystock>\n",
            "</tbl_dailystock>\n",
            "<tbl_askprice>\n",
            "<askprice member_memdomem=\"미래에셋대우\" member_memdovol=\"91,553\" member_memsomem=\"NH투자증권\" member_mesuovol=\"90,715\"></askprice>\n",
            "<askprice member_memdomem=\"JP모간\" member_memdovol=\"88,151\" member_memsomem=\"삼성증권\" member_mesuovol=\"83,728\"></askprice>\n",
            "<askprice member_memdomem=\"메리츠\" member_memdovol=\"83,725\" member_memsomem=\"키움증권\" member_mesuovol=\"75,243\"></askprice>\n",
            "<askprice member_memdomem=\"삼성증권\" member_memdovol=\"49,252\" member_memsomem=\"메리츠\" member_mesuovol=\"70,001\"></askprice>\n",
            "<askprice member_memdomem=\"신한투자\" member_memdovol=\"36,180\" member_memsomem=\"미래에셋대우\" member_mesuovol=\"64,941\"></askprice>\n",
            "</tbl_askprice>\n",
            "<tbl_stockinfo amount=\"164,263,395\" curjuka=\"307,000\" debi=\"5,000\" downjuka=\"218,500\" dungrak=\"5\" facejuka=\"100\" high52=\"339,000\" highjuka=\"312,000\" jongname=\"NAVER보통주\" low52=\"143,000\" lowjuka=\"306,000\" money=\"214,032,765,500\" per=\"76.64\" prevjuka=\"312,000\" startjuka=\"311,500\" upjuka=\"405,500\" volume=\"696,219\"></tbl_stockinfo>\n",
            "<tbl_hoga medohoka0=\"309,000\" medohoka1=\"308,500\" medohoka2=\"308,000\" medohoka3=\"307,500\" medohoka4=\"307,000\" medojan0=\"3,124\" medojan1=\"7,168\" medojan2=\"10,895\" medojan3=\"12,724\" medojan4=\"2,164\" mesuhoka0=\"306,500\" mesuhoka1=\"306,000\" mesuhoka2=\"305,500\" mesuhoka3=\"305,000\" mesuhoka4=\"304,500\" mesujan0=\"24,330\" mesujan1=\"27,718\" mesujan2=\"14,151\" mesujan3=\"26,333\" mesujan4=\"5,421\"></tbl_hoga>\n",
            "<tbl_timeconclude>\n",
            "<tbl_timeconclude amount=\"258\" buyprice=\"\" debi=\"\" dungrak=\"\" negoprice=\"\" sellprice=\"\" time=\"18:00:30\"></tbl_timeconclude>\n",
            "<tbl_timeconclude amount=\"296\" buyprice=\"\" debi=\"\" dungrak=\"\" negoprice=\"\" sellprice=\"\" time=\"17:50:10\"></tbl_timeconclude>\n",
            "<tbl_timeconclude amount=\"106\" buyprice=\"\" debi=\"\" dungrak=\"\" negoprice=\"\" sellprice=\"\" time=\"17:40:30\"></tbl_timeconclude>\n",
            "<tbl_timeconclude amount=\"235\" buyprice=\"\" debi=\"\" dungrak=\"\" negoprice=\"\" sellprice=\"\" time=\"17:30:40\"></tbl_timeconclude>\n",
            "<tbl_timeconclude amount=\"9\" buyprice=\"\" debi=\"\" dungrak=\"\" negoprice=\"\" sellprice=\"\" time=\"17:20:20\"></tbl_timeconclude>\n",
            "<tbl_timeconclude amount=\"169\" buyprice=\"\" debi=\"\" dungrak=\"\" negoprice=\"\" sellprice=\"\" time=\"17:10:20\"></tbl_timeconclude>\n",
            "<tbl_timeconclude amount=\"395\" buyprice=\"\" debi=\"\" dungrak=\"\" negoprice=\"\" sellprice=\"\" time=\"17:00:30\"></tbl_timeconclude>\n",
            "<tbl_timeconclude amount=\"156\" buyprice=\"0\" debi=\"\" dungrak=\"\" negoprice=\"\" sellprice=\"0\" time=\"16:50:20\"></tbl_timeconclude>\n",
            "<tbl_timeconclude amount=\"30\" buyprice=\"\" debi=\"\" dungrak=\"\" negoprice=\"\" sellprice=\"\" time=\"16:40:20\"></tbl_timeconclude>\n",
            "<tbl_timeconclude amount=\"25\" buyprice=\"\" debi=\"\" dungrak=\"\" negoprice=\"\" sellprice=\"\" time=\"16:30:30\"></tbl_timeconclude>\n",
            "</tbl_timeconclude>\n",
            "<stockinfo jisu50=\"\" jisu50buho=\"\" jisu50debi=\"\" kosdaqjisu=\"896.28\" kosdaqjisubuho=\"5\" kosdaqjisudebi=\"3.18\" kospi200buho=\"5\" kospi200debi=\"1.05\" kospi200jisu=\"322.31\" kospibuho=\"5\" kospidebi=\"7.66\" kospijisu=\"2435.92\" krx100buho=\"5\" krx100debi=\"14.96\" krx100jisu=\"5193.26\" myjanggubun=\"장마감\" mynowtime=\"2020/09/16 22:22:06\" mypublicprice=\"\" starjisu=\"1328.27\" starjisubuho=\"2\" starjisudebi=\"10.63\"></stockinfo>\n",
            "</stockprice>\n",
            "</body></html>\n"
          ],
          "name": "stdout"
        }
      ]
    }
  ]
}